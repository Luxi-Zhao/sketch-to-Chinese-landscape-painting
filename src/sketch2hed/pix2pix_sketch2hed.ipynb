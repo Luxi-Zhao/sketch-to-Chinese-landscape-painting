{
  "nbformat": 4,
  "nbformat_minor": 0,
  "metadata": {
    "colab": {
      "name": "pix2pix_sketch2hed.ipynb",
      "provenance": [],
      "collapsed_sections": [],
      "machine_shape": "hm"
    },
    "kernelspec": {
      "name": "python3",
      "display_name": "Python 3"
    },
    "accelerator": "GPU"
  },
  "cells": [
    {
      "cell_type": "markdown",
      "metadata": {
        "id": "zuHd9EqwsCxJ"
      },
      "source": [
        "Run the following command to start training. The folder for datasets and checkpoints can be changed based on user's setting."
      ]
    },
    {
      "cell_type": "code",
      "metadata": {
        "colab": {
          "base_uri": "https://localhost:8080/"
        },
        "id": "f9kxAU40NP09",
        "outputId": "e6f30b2f-6a62-4b25-e444-da01e6d55417"
      },
      "source": [
        "!python /content/drive/MyDrive/pytorch-CycleGAN-and-pix2pix/train.py \\\r\n",
        "    --dataroot /content/drive/MyDrive/pytorch-CycleGAN-and-pix2pix/datasets/ \\ \r\n",
        "    --checkpoints_dir /content/drive/MyDrive/pytorch-CycleGAN-and-pix2pix/checkpoints \\\r\n",
        "    --name p2p_cb \\\r\n",
        "    --model pix2pix \\\r\n",
        "    --direction AtoB \\\r\n",
        "    --continue_train \\\r\n",
        "    --n_epochs 170 \\\r\n",
        "    --n_epochs_decay 30 \\\r\n",
        "    --norm batch \\\r\n",
        "    --batch_size 32 \\\r\n",
        "    --load_size 512 \\\r\n",
        "    --crop_size 512 \\\r\n",
        "    --save_epoch_freq 10 \\\r\n",
        "    --display_winsize 512"
      ],
      "execution_count": null,
      "outputs": [
        {
          "output_type": "stream",
          "text": [
            "----------------- Options ---------------\n",
            "               batch_size: 32                            \t[default: 1]\n",
            "                    beta1: 0.5                           \n",
            "          checkpoints_dir: /content/drive/MyDrive/pytorch-CycleGAN-and-pix2pix-CB/checkpoints\t[default: ./checkpoints]\n",
            "           continue_train: True                          \t[default: False]\n",
            "                crop_size: 512                           \t[default: 256]\n",
            "                 dataroot: /content/drive/MyDrive/pytorch-CycleGAN-and-pix2pix-CB/datasets/CB\t[default: None]\n",
            "             dataset_mode: aligned                       \n",
            "                direction: AtoB                          \n",
            "              display_env: main                          \n",
            "             display_freq: 400                           \n",
            "               display_id: 1                             \n",
            "            display_ncols: 4                             \n",
            "             display_port: 8097                          \n",
            "           display_server: http://localhost              \n",
            "          display_winsize: 512                           \t[default: 256]\n",
            "                    epoch: latest                        \n",
            "              epoch_count: 1                             \n",
            "                 gan_mode: vanilla                       \n",
            "                  gpu_ids: 0                             \n",
            "                init_gain: 0.02                          \n",
            "                init_type: normal                        \n",
            "                 input_nc: 3                             \n",
            "                  isTrain: True                          \t[default: None]\n",
            "                lambda_L1: 100.0                         \n",
            "                load_iter: 0                             \t[default: 0]\n",
            "                load_size: 512                           \t[default: 286]\n",
            "                       lr: 0.0002                        \n",
            "           lr_decay_iters: 50                            \n",
            "                lr_policy: linear                        \n",
            "         max_dataset_size: inf                           \n",
            "                    model: pix2pix                       \t[default: cycle_gan]\n",
            "                 n_epochs: 90                            \t[default: 100]\n",
            "           n_epochs_decay: 30                            \t[default: 100]\n",
            "               n_layers_D: 3                             \n",
            "                     name: p2p_cb                        \t[default: experiment_name]\n",
            "                      ndf: 64                            \n",
            "                     netD: basic                         \n",
            "                     netG: unet_256                      \n",
            "                      ngf: 64                            \n",
            "               no_dropout: False                         \n",
            "                  no_flip: False                         \n",
            "                  no_html: False                         \n",
            "                     norm: batch                         \n",
            "              num_threads: 4                             \n",
            "                output_nc: 3                             \n",
            "                    phase: train                         \n",
            "                pool_size: 0                             \n",
            "               preprocess: resize_and_crop               \n",
            "               print_freq: 100                           \n",
            "             save_by_iter: False                         \n",
            "          save_epoch_freq: 10                            \t[default: 5]\n",
            "         save_latest_freq: 5000                          \n",
            "           serial_batches: False                         \n",
            "                   suffix:                               \n",
            "         update_html_freq: 1000                          \n",
            "                  verbose: False                         \n",
            "----------------- End -------------------\n",
            "dataset [AlignedDataset] was created\n",
            "The number of training images = 1599\n",
            "initialize network with normal\n",
            "initialize network with normal\n",
            "model [Pix2PixModel] was created\n",
            "loading the model from /content/drive/MyDrive/pytorch-CycleGAN-and-pix2pix-CB/checkpoints/p2p_cb/latest_net_G.pth\n",
            "loading the model from /content/drive/MyDrive/pytorch-CycleGAN-and-pix2pix-CB/checkpoints/p2p_cb/latest_net_D.pth\n",
            "---------- Networks initialized -------------\n",
            "[Network G] Total number of parameters : 54.414 M\n",
            "[Network D] Total number of parameters : 2.769 M\n",
            "-----------------------------------------------\n"
          ],
          "name": "stdout"
        }
      ]
    }
  ]
}